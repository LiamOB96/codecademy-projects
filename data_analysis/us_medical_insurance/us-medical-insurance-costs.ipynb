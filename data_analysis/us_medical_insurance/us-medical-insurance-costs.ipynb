{
 "cells": [
  {
   "cell_type": "markdown",
   "metadata": {},
   "source": [
    "# U.S. Medical Insurance Costs"
   ]
  },
  {
   "cell_type": "code",
   "execution_count": 8,
   "metadata": {},
   "outputs": [],
   "source": [
    "import pandas as pd\n",
    "import csv\n",
    "import statistics as stats\n",
    "from collections import Counter"
   ]
  },
  {
   "cell_type": "code",
   "execution_count": 3,
   "metadata": {},
   "outputs": [
    {
     "name": "stdout",
     "output_type": "stream",
     "text": [
      "   age     sex     bmi  children smoker     region      charges\n",
      "0   19  female  27.900         0    yes  southwest  16884.92400\n",
      "1   18    male  33.770         1     no  southeast   1725.55230\n",
      "2   28    male  33.000         3     no  southeast   4449.46200\n",
      "3   33    male  22.705         0     no  northwest  21984.47061\n",
      "4   32    male  28.880         0     no  northwest   3866.85520\n"
     ]
    }
   ],
   "source": [
    "df = pd.read_csv(\"insurance.csv\")\n",
    "print(df.head())                 "
   ]
  },
  {
   "cell_type": "markdown",
   "metadata": {},
   "source": [
    "First we will save the columns from insurance.csv in python lists."
   ]
  },
  {
   "cell_type": "code",
   "execution_count": 14,
   "metadata": {},
   "outputs": [
    {
     "name": "stdout",
     "output_type": "stream",
     "text": [
      "First 5 ages: [19, 18, 28, 33, 32]\n",
      "First 5 BMI values: [27.9, 33.77, 33.0, 22.705, 28.88]\n",
      "First 5 charges: [16884.924, 1725.5523, 4449.462, 21984.47061, 3866.8552]\n"
     ]
    }
   ],
   "source": [
    "ages = []\n",
    "sexes = []\n",
    "bmis = []\n",
    "num_children = []\n",
    "smoker_status = []\n",
    "regions = []\n",
    "charges = []\n",
    "\n",
    "with open(\"insurance.csv\") as csv_file:\n",
    "    reader = csv.DictReader(csv_file)\n",
    "    for dictionary in reader:\n",
    "        ages.append(int(dictionary[\"age\"]))\n",
    "        sexes.append(dictionary[\"sex\"])\n",
    "        bmis.append(float(dictionary[\"bmi\"]))\n",
    "        num_children.append(dictionary[\"children\"])\n",
    "        smoker_status.append(dictionary[\"smoker\"])\n",
    "        regions.append(dictionary[\"region\"])\n",
    "        charges.append(float(dictionary[\"charges\"]))\n",
    "\n",
    "# Confirm data in lists\n",
    "print(\"First 5 ages:\", ages[:5])\n",
    "print(\"First 5 BMI values:\", bmis[:5])\n",
    "print(\"First 5 charges:\", charges[:5])"
   ]
  },
  {
   "cell_type": "markdown",
   "metadata": {},
   "source": [
    "Next we define a class which will contain methods to carry out analyses."
   ]
  },
  {
   "cell_type": "code",
   "execution_count": 16,
   "metadata": {},
   "outputs": [],
   "source": [
    "class InsuranceAnalysis:\n",
    "    def __init__(self, ages, sexes, bmis, num_children, smoker_statuses, regions, charges):\n",
    "        self.ages = ages\n",
    "        self.sexes = sexes\n",
    "        self.bmis = bmis\n",
    "        self.num_children = num_children\n",
    "        self.smoker_statuses = smoker_statuses\n",
    "        self.regions = regions\n",
    "        self.charges = charges\n",
    "\n",
    "    def age_summary(self):\n",
    "        ages_sorted = sorted(self.ages)\n",
    "        quartiles = stats.quantiles(ages_sorted, n=4, method='inclusive')\n",
    "        q1 = quartiles[0]\n",
    "        q3 = quartiles[2]\n",
    "        iqr = q3 - q1\n",
    "\n",
    "        return {\n",
    "            \"mean\": round(stats.mean(self.ages), 2),\n",
    "            \"median\": round(stats.median(self.ages), 2),\n",
    "            \"stdev\": round(stats.stdev(self.ages), 2),\n",
    "            \"min\": min(self.ages),\n",
    "            \"max\": max(self.ages),\n",
    "            \"range\": max(self.ages) - min(self.ages),\n",
    "            \"Q1\": round(q1, 2),\n",
    "            \"Q3\": round(q3, 2),\n",
    "            \"IQR\": round(iqr, 2)\n",
    "        }\n",
    "\n",
    "    def count_sexes(self):\n",
    "        return Counter(self.sexes)\n",
    "\n",
    "    def average_bmi(self):\n",
    "        return round(stats.mean(self.bmis), 2)\n",
    "\n",
    "    def count_regions(self):\n",
    "        return Counter(self.regions)\n",
    "\n",
    "    def charges_summary(self):\n",
    "        charges_sorted = sorted(self.charges)\n",
    "        quartiles = stats.quantiles(charges_sorted, n=4, method='inclusive')\n",
    "        q1 = quartiles[0]\n",
    "        q3 = quartiles[2]\n",
    "        iqr = q3 - q1\n",
    "\n",
    "        return {\n",
    "            \"mean\": round(stats.mean(self.charges), 2),\n",
    "            \"median\": round(stats.median(self.charges), 2),\n",
    "            \"stdev\": round(stats.stdev(self.charges), 2),\n",
    "            \"min\": min(self.charges),\n",
    "            \"max\": max(self.charges),\n",
    "            \"range\": max(self.charges) - min(self.charges),\n",
    "            \"Q1\": round(q1, 2),\n",
    "            \"Q3\": round(q3, 2),\n",
    "            \"IQR\": round(iqr, 2)\n",
    "        }"
   ]
  },
  {
   "cell_type": "markdown",
   "metadata": {},
   "source": [
    "Lets create an instance of the class InsuranceAnalysis."
   ]
  },
  {
   "cell_type": "code",
   "execution_count": 17,
   "metadata": {},
   "outputs": [],
   "source": [
    "analysis = InsuranceAnalysis(ages, sexes, bmis, num_children, smoker_status, regions, charges)"
   ]
  },
  {
   "cell_type": "markdown",
   "metadata": {},
   "source": [
    "Now we can view the summary statistics for the ages"
   ]
  },
  {
   "cell_type": "code",
   "execution_count": 18,
   "metadata": {},
   "outputs": [
    {
     "name": "stdout",
     "output_type": "stream",
     "text": [
      "{'mean': 39.21, 'median': 39.0, 'stdev': 14.05, 'min': 18, 'max': 64, 'range': 46, 'Q1': 27.0, 'Q3': 51.0, 'IQR': 24.0}\n"
     ]
    }
   ],
   "source": [
    "print(analysis.age_summary())"
   ]
  },
  {
   "cell_type": "markdown",
   "metadata": {},
   "source": [
    "The mean age (39.21) and median age (39.0) are almost identical, suggesting that the distribution of ages is roughly symmetric.\n",
    "Most people are between 27 and 51 years old (the interquartile range), with ages ranging from 18 to 64 overall.\n",
    "This indicates that the dataset primarily consists of working-age adults."
   ]
  },
  {
   "cell_type": "code",
   "execution_count": 19,
   "metadata": {},
   "outputs": [
    {
     "name": "stdout",
     "output_type": "stream",
     "text": [
      "Counter({'male': 676, 'female': 662})\n"
     ]
    }
   ],
   "source": [
    "print(analysis.count_sexes())"
   ]
  },
  {
   "cell_type": "markdown",
   "metadata": {},
   "source": [
    "Both sexes are equally represented."
   ]
  },
  {
   "cell_type": "code",
   "execution_count": 20,
   "metadata": {},
   "outputs": [
    {
     "name": "stdout",
     "output_type": "stream",
     "text": [
      "Counter({'southeast': 364, 'southwest': 325, 'northwest': 325, 'northeast': 324})\n"
     ]
    }
   ],
   "source": [
    "print(analysis.count_regions())"
   ]
  },
  {
   "cell_type": "markdown",
   "metadata": {},
   "source": [
    "The dataset is equally distributed across the four regions in USA. "
   ]
  },
  {
   "cell_type": "code",
   "execution_count": 21,
   "metadata": {},
   "outputs": [
    {
     "name": "stdout",
     "output_type": "stream",
     "text": [
      "{'mean': 13270.42, 'median': 9382.03, 'stdev': 12110.01, 'min': 1121.8739, 'max': 63770.42801, 'range': 62648.554110000005, 'Q1': 4740.29, 'Q3': 16639.91, 'IQR': 11899.63}\n"
     ]
    }
   ],
   "source": [
    "print(analysis.charges_summary())"
   ]
  },
  {
   "cell_type": "markdown",
   "metadata": {},
   "source": [
    "The standard deviation (\\\\$12110) is high suggesting charges vary a lot between people. The mean (\\\\$13270) is significantly higher than the median, suggesting there are a small number of people paying very high charges which pulls up the mean. This would imply the charges are right skewed.  \n",
    "Most people pay between \\\\$4700 and \\\\$16600, but the max charge is much higher at \\\\$63770. So there may be some potential outliers."
   ]
  },
  {
   "cell_type": "code",
   "execution_count": null,
   "metadata": {},
   "outputs": [],
   "source": []
  }
 ],
 "metadata": {
  "kernelspec": {
   "display_name": "Python [conda env:base] *",
   "language": "python",
   "name": "conda-base-py"
  },
  "language_info": {
   "codemirror_mode": {
    "name": "ipython",
    "version": 3
   },
   "file_extension": ".py",
   "mimetype": "text/x-python",
   "name": "python",
   "nbconvert_exporter": "python",
   "pygments_lexer": "ipython3",
   "version": "3.13.5"
  }
 },
 "nbformat": 4,
 "nbformat_minor": 4
}
